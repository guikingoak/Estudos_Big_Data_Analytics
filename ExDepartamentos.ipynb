{
  "nbformat": 4,
  "nbformat_minor": 0,
  "metadata": {
    "colab": {
      "provenance": [],
      "include_colab_link": true
    },
    "kernelspec": {
      "name": "python3",
      "display_name": "Python 3"
    },
    "language_info": {
      "name": "python"
    }
  },
  "cells": [
    {
      "cell_type": "markdown",
      "metadata": {
        "id": "view-in-github",
        "colab_type": "text"
      },
      "source": [
        "<a href=\"https://colab.research.google.com/github/guikingoak/Estudos_Big_Data_Analytics/blob/main/ExDepartamentos.ipynb\" target=\"_parent\"><img src=\"https://colab.research.google.com/assets/colab-badge.svg\" alt=\"Open In Colab\"/></a>"
      ]
    },
    {
      "cell_type": "code",
      "execution_count": null,
      "metadata": {
        "id": "VsbjhVpieq1g"
      },
      "outputs": [],
      "source": [
        "!apt-get install openjdk-8-jdk-headless -qq > /dev/null\n",
        "!wget -q http://archive.apache.org/dist/spark/spark-3.1.1/spark-3.1.1-bin-hadoop3.2.tgz\n",
        "!tar xf spark-3.1.1-bin-hadoop3.2.tgz\n",
        "!pip install -q findspark\n",
        "\n",
        "import os\n",
        "os.environ[\"JAVA_HOME\"] = \"/usr/lib/jvm/java-8-openjdk-amd64\"\n",
        "os.environ[\"SPARK_HOME\"] = \"/content/spark-3.1.1-bin-hadoop3.2\"\n",
        "\n",
        "import findspark\n",
        "findspark.init()\n",
        "\n",
        "\n",
        "from pyspark.sql import SparkSession\n",
        "\n",
        "spark = SparkSession.builder.getOrCreate()\n",
        "\n",
        "spark.conf.set(\"spark.sql.repl.eagerEval.enabled\", True)"
      ]
    },
    {
      "cell_type": "markdown",
      "source": [
        "**Questão 1**\n",
        "\n",
        "Carregue os arquivos departments.csv, employees.csv e sales.csv em DataFrames Spark separados. Em seguida, exiba o schema e as primeiras linhas de cada."
      ],
      "metadata": {
        "id": "4K_ziW-yu2FL"
      }
    },
    {
      "cell_type": "code",
      "source": [
        "spark = SparkSession.builder.appName(\"Carregar Csv\").getOrCreate()\n",
        "\n",
        "\n",
        "departments_df = spark.read.csv('departments.csv', header=True, inferSchema=True)\n",
        "employees_df = spark.read.csv('employees.csv', header=True, inferSchema=True)\n",
        "sales_df = spark.read.csv('sales.csv', header=True, inferSchema=True)\n",
        "\n",
        "departments_df.printSchema()\n",
        "departments_df.show()\n",
        "\n",
        "employees_df.printSchema()\n",
        "employees_df.show()\n",
        "\n",
        "sales_df.printSchema()\n",
        "sales_df.show()"
      ],
      "metadata": {
        "id": "wC9CbU5pvF7G",
        "colab": {
          "base_uri": "https://localhost:8080/"
        },
        "outputId": "56f266a4-bb06-43d4-f463-a48256c1506b"
      },
      "execution_count": null,
      "outputs": [
        {
          "output_type": "stream",
          "name": "stdout",
          "text": [
            "root\n",
            " |-- dept_id: integer (nullable = true)\n",
            " |-- dept_name: string (nullable = true)\n",
            "\n",
            "+-------+-----------+\n",
            "|dept_id|  dept_name|\n",
            "+-------+-----------+\n",
            "|      1|      Sales|\n",
            "|      2|         HR|\n",
            "|      3|Engineering|\n",
            "+-------+-----------+\n",
            "\n",
            "root\n",
            " |-- emp_id: integer (nullable = true)\n",
            " |-- name: string (nullable = true)\n",
            " |-- age: integer (nullable = true)\n",
            " |-- dept_id: integer (nullable = true)\n",
            " |-- salary: integer (nullable = true)\n",
            "\n",
            "+------+-------+---+-------+------+\n",
            "|emp_id|   name|age|dept_id|salary|\n",
            "+------+-------+---+-------+------+\n",
            "|   101|    Ana| 30|      1|  3000|\n",
            "|   102|   Beto| 45|      1|  4000|\n",
            "|   103| Carlos| 25|      2|  2000|\n",
            "|   104|  Diana| 40|      3|  5000|\n",
            "|   105|Ernesto| 35|      3|  4500|\n",
            "+------+-------+---+-------+------+\n",
            "\n",
            "root\n",
            " |-- emp_id: integer (nullable = true)\n",
            " |-- month: string (nullable = true)\n",
            " |-- sales_amount: integer (nullable = true)\n",
            "\n",
            "+------+-------+------------+\n",
            "|emp_id|  month|sales_amount|\n",
            "+------+-------+------------+\n",
            "|   101|2021-01|        5000|\n",
            "|   101|2021-02|        7000|\n",
            "|   102|2021-01|       10000|\n",
            "|   104|2021-01|       15000|\n",
            "|   104|2021-02|       10000|\n",
            "|   105|2021-02|        5000|\n",
            "+------+-------+------------+\n",
            "\n"
          ]
        }
      ]
    },
    {
      "cell_type": "markdown",
      "source": [
        "**Questão 2**\n",
        "\n",
        "Utilizando o DataFrame de funcionários (employees) e o DataFrame de departamentos (departments), realize um join para criar um novo DataFrame que contenha as colunas: emp_id, name, age, salary, dept_name. Em seguida, exiba as primeiras linhas deste novo DataFrame."
      ],
      "metadata": {
        "id": "VO1b8VRQvFVG"
      }
    },
    {
      "cell_type": "code",
      "source": [
        "employee_department_df = employees_df.join(departments_df, employees_df.dept_id == departments_df.dept_id, \"inner\") \\\n",
        "    .select(employees_df.emp_id, employees_df.name, employees_df.age, employees_df.salary, departments_df.dept_name)\n",
        "\n",
        "employee_department_df.show()"
      ],
      "metadata": {
        "id": "8FCCvRUbvNIZ",
        "colab": {
          "base_uri": "https://localhost:8080/"
        },
        "outputId": "7af7ffa5-dd4a-4cf2-a885-f02f694a3f57"
      },
      "execution_count": null,
      "outputs": [
        {
          "output_type": "stream",
          "name": "stdout",
          "text": [
            "+------+-------+---+------+-----------+\n",
            "|emp_id|   name|age|salary|  dept_name|\n",
            "+------+-------+---+------+-----------+\n",
            "|   101|    Ana| 30|  3000|      Sales|\n",
            "|   102|   Beto| 45|  4000|      Sales|\n",
            "|   103| Carlos| 25|  2000|         HR|\n",
            "|   104|  Diana| 40|  5000|Engineering|\n",
            "|   105|Ernesto| 35|  4500|Engineering|\n",
            "+------+-------+---+------+-----------+\n",
            "\n"
          ]
        }
      ]
    },
    {
      "cell_type": "markdown",
      "source": [
        "**Questão 3**\n",
        "\n",
        "A partir do DataFrame combinado da questão anterior, filtre para obter apenas os funcionários com mais de 30 anos de idade que pertencem ao departamento \"Engineering\". Exiba o resultado."
      ],
      "metadata": {
        "id": "yYAyhWixvOyd"
      }
    },
    {
      "cell_type": "code",
      "source": [
        "filtrado_df = employee_department_df.filter((employee_department_df.age > 30) & (employee_department_df.dept_name == \"Engineering\"))\n",
        "filtrado_df.show()"
      ],
      "metadata": {
        "id": "U2vxtO0_vUEf",
        "colab": {
          "base_uri": "https://localhost:8080/"
        },
        "outputId": "dd24db38-6c41-4f02-b89b-e5e4eb827a68"
      },
      "execution_count": null,
      "outputs": [
        {
          "output_type": "stream",
          "name": "stdout",
          "text": [
            "+------+-------+---+------+-----------+\n",
            "|emp_id|   name|age|salary|  dept_name|\n",
            "+------+-------+---+------+-----------+\n",
            "|   104|  Diana| 40|  5000|Engineering|\n",
            "|   105|Ernesto| 35|  4500|Engineering|\n",
            "+------+-------+---+------+-----------+\n",
            "\n"
          ]
        }
      ]
    },
    {
      "cell_type": "markdown",
      "source": [
        "**Questão 4**\n",
        "\n",
        "Usando o DataFrame de vendas (sales), calcule o total de sales_amount por funcionário (emp_id). Exiba o resultado ordenando pela soma do valor de vendas, do maior para o menor, e mostre apenas os 2 funcionários com maior total de vendas."
      ],
      "metadata": {
        "id": "OmLIU76kvXiG"
      }
    },
    {
      "cell_type": "code",
      "source": [
        "from pyspark.sql.functions import sum, desc\n",
        "\n",
        "sales_by_employee = sales_df.groupBy(\"emp_id\").agg(sum(\"sales_amount\").alias(\"total_sales_amount\"))\n",
        "\n",
        "sorted_sales = sales_by_employee.orderBy(desc(\"total_sales_amount\"))\n",
        "\n",
        "sorted_sales.show(2)"
      ],
      "metadata": {
        "id": "nQRCAXYUvddv",
        "colab": {
          "base_uri": "https://localhost:8080/"
        },
        "outputId": "72476f2c-c0fc-45f4-c011-bb59d25a42f2"
      },
      "execution_count": null,
      "outputs": [
        {
          "output_type": "stream",
          "name": "stdout",
          "text": [
            "+------+------------------+\n",
            "|emp_id|total_sales_amount|\n",
            "+------+------------------+\n",
            "|   104|             25000|\n",
            "|   101|             12000|\n",
            "+------+------------------+\n",
            "only showing top 2 rows\n",
            "\n"
          ]
        }
      ]
    },
    {
      "cell_type": "markdown",
      "source": [
        "**Questão 5**\n",
        "\n",
        "Salve o resultado da questão anterior (os top 2 vendedores) em um arquivo CSV."
      ],
      "metadata": {
        "id": "oIOrBOGRvds4"
      }
    },
    {
      "cell_type": "code",
      "source": [
        "import pandas as pd\n",
        "\n",
        "top_2_vend_df = sorted_sales.limit(2).toPandas()\n",
        "top_2_vend_df.to_csv(\"top_2_vend.csv\", index=False)"
      ],
      "metadata": {
        "id": "2ffXn1F3vmIZ"
      },
      "execution_count": null,
      "outputs": []
    }
  ]
}