{
  "nbformat": 4,
  "nbformat_minor": 0,
  "metadata": {
    "colab": {
      "provenance": [],
      "authorship_tag": "ABX9TyMPBLEDUcgIHsIv3apspp5J",
      "include_colab_link": true
    },
    "kernelspec": {
      "name": "python3",
      "display_name": "Python 3"
    },
    "language_info": {
      "name": "python"
    }
  },
  "cells": [
    {
      "cell_type": "markdown",
      "metadata": {
        "id": "view-in-github",
        "colab_type": "text"
      },
      "source": [
        "<a href=\"https://colab.research.google.com/github/guikingoak/Estudos_Big_Data_Analytics/blob/main/ExCarros.ipynb\" target=\"_parent\"><img src=\"https://colab.research.google.com/assets/colab-badge.svg\" alt=\"Open In Colab\"/></a>"
      ]
    },
    {
      "cell_type": "code",
      "source": [
        "pip install pyspark"
      ],
      "metadata": {
        "colab": {
          "base_uri": "https://localhost:8080/"
        },
        "id": "s2G-THJpftjx",
        "outputId": "93a91c56-f07e-4c88-f217-19cdec0f91f5"
      },
      "execution_count": null,
      "outputs": [
        {
          "output_type": "stream",
          "name": "stdout",
          "text": [
            "Requirement already satisfied: pyspark in /usr/local/lib/python3.10/dist-packages (3.5.3)\n",
            "Requirement already satisfied: py4j==0.10.9.7 in /usr/local/lib/python3.10/dist-packages (from pyspark) (0.10.9.7)\n"
          ]
        }
      ]
    },
    {
      "cell_type": "markdown",
      "source": [
        "Exercício 1: Carregar e Unir os Datasets\n",
        "Enunciado: Carregue os datasets `cars1.csv` e `cars2.csv` como DataFrames no PySpark. Em seguida, una os dois DataFrames utilizando `UNION` para criar um único DataFrame que contenha todos os dados."
      ],
      "metadata": {
        "id": "1BUYHLvKdx36"
      }
    },
    {
      "source": [
        "from pyspark.sql import SparkSession\n",
        "from pyspark.sql.functions import lit, col, avg\n",
        "\n",
        "spark = SparkSession.builder \\\n",
        "    .appName(\"Exercicio Spark Merge e Filter\") \\\n",
        "    .getOrCreate()\n",
        "\n",
        "cars1 = spark.read.csv(\"cars1.csv\", header=True, inferSchema=True)\n",
        "cars2 = spark.read.csv(\"cars2.csv\", header=True, inferSchema=True)\n",
        "\n",
        "cars1_cols = cars1.columns\n",
        "cars2_cols = cars2.columns\n",
        "\n",
        "missing_cols_cars1 = [col_name for col_name in cars2_cols if col_name not in cars1_cols]\n",
        "missing_cols_cars2 = [col_name for col_name in cars1_cols if col_name not in cars2_cols]\n",
        "\n",
        "\n",
        "for col_name in missing_cols_cars1:\n",
        "    cars1 = cars1.withColumn(col_name, lit(None).cast(cars2.schema[cars2_cols.index(col_name)].dataType))\n",
        "for col_name in missing_cols_cars2:\n",
        "    cars2 = cars2.withColumn(col_name, lit(None).cast(cars1.schema[cars1_cols.index(col_name)].dataType))\n",
        "\n",
        "cars_union = cars1.union(cars2)\n",
        "\n",
        "cars_union.show()"
      ],
      "cell_type": "code",
      "metadata": {
        "colab": {
          "base_uri": "https://localhost:8080/"
        },
        "id": "vjJqkNBHhQDf",
        "outputId": "f4b5332b-d5f0-4a0d-b0bd-c32ef371ec46"
      },
      "execution_count": null,
      "outputs": [
        {
          "output_type": "stream",
          "name": "stdout",
          "text": [
            "+----+---------+------------+----------+------+------------+-----+------+--------------------+----+----+----+----+----+\n",
            "| mpg|cylinders|displacement|horsepower|weight|acceleration|model|origin|                 car| _c9|_c10|_c11|_c12|_c13|\n",
            "+----+---------+------------+----------+------+------------+-----+------+--------------------+----+----+----+----+----+\n",
            "|18.0|        8|         307|       130|  3504|        12.0|   70|     1|chevrolet chevell...|NULL|NULL|NULL|NULL|NULL|\n",
            "|15.0|        8|         350|       165|  3693|        11.5|   70|     1|   buick skylark 320|NULL|NULL|NULL|NULL|NULL|\n",
            "|18.0|        8|         318|       150|  3436|        11.0|   70|     1|  plymouth satellite|NULL|NULL|NULL|NULL|NULL|\n",
            "|16.0|        8|         304|       150|  3433|        12.0|   70|     1|       amc rebel sst|NULL|NULL|NULL|NULL|NULL|\n",
            "|17.0|        8|         302|       140|  3449|        10.5|   70|     1|         ford torino|NULL|NULL|NULL|NULL|NULL|\n",
            "|15.0|        8|         429|       198|  4341|        10.0|   70|     1|    ford galaxie 500|NULL|NULL|NULL|NULL|NULL|\n",
            "|14.0|        8|         454|       220|  4354|         9.0|   70|     1|    chevrolet impala|NULL|NULL|NULL|NULL|NULL|\n",
            "|14.0|        8|         440|       215|  4312|         8.5|   70|     1|   plymouth fury iii|NULL|NULL|NULL|NULL|NULL|\n",
            "|14.0|        8|         455|       225|  4425|        10.0|   70|     1|    pontiac catalina|NULL|NULL|NULL|NULL|NULL|\n",
            "|15.0|        8|         390|       190|  3850|         8.5|   70|     1|  amc ambassador dpl|NULL|NULL|NULL|NULL|NULL|\n",
            "|15.0|        8|         383|       170|  3563|        10.0|   70|     1| dodge challenger se|NULL|NULL|NULL|NULL|NULL|\n",
            "|14.0|        8|         340|       160|  3609|         8.0|   70|     1|  plymouth 'cuda 340|NULL|NULL|NULL|NULL|NULL|\n",
            "|15.0|        8|         400|       150|  3761|         9.5|   70|     1|chevrolet monte c...|NULL|NULL|NULL|NULL|NULL|\n",
            "|14.0|        8|         455|       225|  3086|        10.0|   70|     1|buick estate wago...|NULL|NULL|NULL|NULL|NULL|\n",
            "|24.0|        4|         113|        95|  2372|        15.0|   70|     3|toyota corona mar...|NULL|NULL|NULL|NULL|NULL|\n",
            "|22.0|        6|         198|        95|  2833|        15.5|   70|     1|     plymouth duster|NULL|NULL|NULL|NULL|NULL|\n",
            "|18.0|        6|         199|        97|  2774|        15.5|   70|     1|          amc hornet|NULL|NULL|NULL|NULL|NULL|\n",
            "|21.0|        6|         200|        85|  2587|        16.0|   70|     1|       ford maverick|NULL|NULL|NULL|NULL|NULL|\n",
            "|27.0|        4|          97|        88|  2130|        14.5|   70|     3|        datsun pl510|NULL|NULL|NULL|NULL|NULL|\n",
            "|26.0|        4|          97|        46|  1835|        20.5|   70|     2|volkswagen 1131 d...|NULL|NULL|NULL|NULL|NULL|\n",
            "+----+---------+------------+----------+------+------------+-----+------+--------------------+----+----+----+----+----+\n",
            "only showing top 20 rows\n",
            "\n"
          ]
        }
      ]
    },
    {
      "cell_type": "markdown",
      "source": [
        "Exercício 2: Filtrar e Agrupar Dados\n",
        "Enunciado: A partir do DataFrame unido, filtre os carros que possuem mais de 4 cilindros. Em seguida, agrupe os dados por número de cilindros (`cylinders`) e calcule a média de `mpg` (milhas por galão) para cada grupo.\n"
      ],
      "metadata": {
        "id": "HLTzohUKd0-5"
      }
    },
    {
      "cell_type": "code",
      "source": [
        "from pyspark.sql.functions import col\n",
        "\n",
        "filtered_cars = cars_union.filter(col(\"cylinders\") > 4)\n",
        "\n",
        "avg_mpg_by_cylinders = filtered_cars.groupBy(\"cylinders\").agg(avg(\"mpg\").alias(\"avg_mpg\"))\n",
        "\n",
        "avg_mpg_by_cylinders.show()"
      ],
      "metadata": {
        "colab": {
          "base_uri": "https://localhost:8080/"
        },
        "id": "9NhG5SX2h8D7",
        "outputId": "ca7d13b4-5793-4153-a86d-0a3c39c731e1"
      },
      "execution_count": null,
      "outputs": [
        {
          "output_type": "stream",
          "name": "stdout",
          "text": [
            "+---------+------------------+\n",
            "|cylinders|           avg_mpg|\n",
            "+---------+------------------+\n",
            "|        6|19.985714285714288|\n",
            "|        8|14.963106796116502|\n",
            "|        5|27.366666666666664|\n",
            "+---------+------------------+\n",
            "\n"
          ]
        }
      ]
    },
    {
      "cell_type": "markdown",
      "source": [
        "Exercício 3: Join entre DataFrames\n",
        "Enunciado: Considere que você adicionou uma coluna de `ID` única para ambos os DataFrames `cars1` e `cars2`. Realize um `JOIN` entre os dois DataFrames utilizando a coluna `car` (nome do carro). Use um `INNER JOIN` para trazer apenas os registros que estão presentes em ambos os datasets."
      ],
      "metadata": {
        "id": "Y8TDXZzbd36c"
      }
    },
    {
      "cell_type": "code",
      "source": [
        "from pyspark.sql.functions import monotonically_increasing_id\n",
        "\n",
        "cars1 = cars1.withColumn(\"ID\", monotonically_increasing_id())\n",
        "cars2 = cars2.withColumn(\"ID\", monotonically_increasing_id())\n",
        "\n",
        "joined_df = cars1.join(cars2, on=\"car\", how=\"inner\")\n",
        "\n",
        "joined_df.show()"
      ],
      "metadata": {
        "colab": {
          "base_uri": "https://localhost:8080/"
        },
        "id": "RxqvJ2pAlC0K",
        "outputId": "ddb9d3fd-05ef-4eb7-8932-bf209f763285"
      },
      "execution_count": null,
      "outputs": [
        {
          "output_type": "stream",
          "name": "stdout",
          "text": [
            "+--------------------+----+---------+------------+----------+------+------------+-----+------+----+----+----+----+----+---+----+---------+------------+----------+------+------------+-----+------+----+----+----+----+----+---+\n",
            "|                 car| mpg|cylinders|displacement|horsepower|weight|acceleration|model|origin| _c9|_c10|_c11|_c12|_c13| ID| mpg|cylinders|displacement|horsepower|weight|acceleration|model|origin| _c9|_c10|_c11|_c12|_c13| ID|\n",
            "+--------------------+----+---------+------------+----------+------+------------+-----+------+----+----+----+----+----+---+----+---------+------------+----------+------+------------+-----+------+----+----+----+----+----+---+\n",
            "|buick estate wago...|14.0|        8|         455|       225|  3086|        10.0|   70|     1|NULL|NULL|NULL|NULL|NULL| 13|16.9|        8|         350|       155|  4360|        14.9|   79|     1|NULL|NULL|NULL|NULL|NULL| 91|\n",
            "|         peugeot 504|25.0|        4|         110|        87|  2672|        17.5|   70|     2|NULL|NULL|NULL|NULL|NULL| 20|27.2|        4|         141|        71|  3190|        24.8|   79|     2|NULL|NULL|NULL|NULL|NULL|101|\n",
            "|         peugeot 504|25.0|        4|         110|        87|  2672|        17.5|   70|     2|NULL|NULL|NULL|NULL|NULL| 20|19.0|        4|         120|        88|  3270|        21.9|   76|     2|NULL|NULL|NULL|NULL|NULL| 11|\n",
            "|       toyota corona|25.0|        4|         113|        95|  2228|        14.0|   71|     3|NULL|NULL|NULL|NULL|NULL| 31|27.5|        4|         134|        95|  2560|        14.2|   78|     3|NULL|NULL|NULL|NULL|NULL| 69|\n",
            "|          ford pinto|25.0|        4|          98|         ?|  2046|        19.0|   71|     1|NULL|NULL|NULL|NULL|NULL| 32|26.5|        4|         140|        72|  2565|        13.6|   76|     1|NULL|NULL|NULL|NULL|NULL|  8|\n",
            "|ford country squi...|13.0|        8|         400|       170|  4746|        12.0|   71|     1|NULL|NULL|NULL|NULL|NULL| 43|15.5|        8|         351|       142|  4054|        14.3|   79|     1|NULL|NULL|NULL|NULL|NULL| 92|\n",
            "|    chevrolet malibu|13.0|        8|         350|       145|  3988|        13.0|   73|     1|NULL|NULL|NULL|NULL|NULL| 87|20.5|        6|         200|        95|  3155|        18.2|   78|     1|NULL|NULL|NULL|NULL|NULL| 55|\n",
            "|chevrolet caprice...|13.0|        8|         400|       150|  4464|        12.0|   73|     1|NULL|NULL|NULL|NULL|NULL| 91|17.0|        8|         305|       130|  3840|        15.4|   79|     1|NULL|NULL|NULL|NULL|NULL| 87|\n",
            "|chevrolet caprice...|13.0|        8|         400|       150|  4464|        12.0|   73|     1|NULL|NULL|NULL|NULL|NULL| 91|17.5|        8|         305|       145|  3880|        12.5|   77|     1|NULL|NULL|NULL|NULL|NULL| 23|\n",
            "|          ford pinto|19.0|        4|         122|        85|  2310|        18.5|   73|     1|NULL|NULL|NULL|NULL|NULL|112|26.5|        4|         140|        72|  2565|        13.6|   76|     1|NULL|NULL|NULL|NULL|NULL|  8|\n",
            "|      toyota mark ii|20.0|        6|         156|       122|  2807|        13.5|   73|     3|NULL|NULL|NULL|NULL|NULL|123|19.0|        6|         156|       108|  2930|        15.5|   76|     3|NULL|NULL|NULL|NULL|NULL| 12|\n",
            "|          ford pinto|26.0|        4|         122|        80|  2451|        16.5|   74|     1|NULL|NULL|NULL|NULL|NULL|130|26.5|        4|         140|        72|  2565|        13.6|   76|     1|NULL|NULL|NULL|NULL|NULL|  8|\n",
            "|   volkswagen dasher|26.0|        4|          79|        67|  1963|        15.5|   74|     2|NULL|NULL|NULL|NULL|NULL|142|30.5|        4|          97|        78|  2190|        14.1|   77|     2|NULL|NULL|NULL|NULL|NULL| 42|\n",
            "|       toyota corona|31.0|        4|          76|        52|  1649|        16.5|   74|     3|NULL|NULL|NULL|NULL|NULL|144|27.5|        4|         134|        95|  2560|        14.2|   78|     3|NULL|NULL|NULL|NULL|NULL| 69|\n",
            "|          dodge colt|28.0|        4|          90|        75|  2125|        14.5|   74|     1|NULL|NULL|NULL|NULL|NULL|146|27.9|        4|         156|       105|  2800|        14.4|   80|     1|NULL|NULL|NULL|NULL|NULL|125|\n",
            "|         honda civic|24.0|        4|         120|        97|  2489|        15.0|   74|     3|NULL|NULL|NULL|NULL|NULL|149|38.0|        4|          91|        67|  1965|        15.0|   82|     3|NULL|NULL|NULL|NULL|NULL|185|\n",
            "|         honda civic|24.0|        4|         120|        97|  2489|        15.0|   74|     3|NULL|NULL|NULL|NULL|NULL|149|33.0|        4|          91|        53|  1795|        17.4|   76|     3|NULL|NULL|NULL|NULL|NULL|  0|\n",
            "|              subaru|26.0|        4|         108|        93|  2391|        15.5|   74|     3|NULL|NULL|NULL|NULL|NULL|150|32.3|        4|          97|        67|  2065|        17.8|   81|     3|NULL|NULL|NULL|NULL|NULL|148|\n",
            "|       buick century|17.0|        6|         231|       110|  3907|        21.0|   75|     1|NULL|NULL|NULL|NULL|NULL|160|22.4|        6|         231|       110|  3415|        15.8|   81|     1|NULL|NULL|NULL|NULL|NULL|165|\n",
            "|      toyota corolla|29.0|        4|          97|        75|  2171|        16.0|   75|     3|NULL|NULL|NULL|NULL|NULL|167|34.0|        4|         108|        70|  2245|        16.9|   82|     3|NULL|NULL|NULL|NULL|NULL|184|\n",
            "+--------------------+----+---------+------------+----------+------+------------+-----+------+----+----+----+----+----+---+----+---------+------------+----------+------+------------+-----+------+----+----+----+----+----+---+\n",
            "only showing top 20 rows\n",
            "\n"
          ]
        }
      ]
    },
    {
      "cell_type": "markdown",
      "source": [],
      "metadata": {
        "id": "UM-Y3VEnd7JM"
      }
    },
    {
      "cell_type": "markdown",
      "source": [
        "Exercício 4: Modificação dos Dados (Alterar Colunas)\n",
        "Enunciado: Crie uma nova coluna chamada `performance` que classifique os carros da seguinte forma:\n",
        "- Se o carro tem mais de 20 `mpg`, classifique como \"Alta\".\n",
        "- Se o carro tem entre 15 e 20 `mpg`, classifique como \"Média\".\n",
        "- Se o carro tem menos de 15 `mpg`, classifique como \"Baixa\"."
      ],
      "metadata": {
        "id": "NUwc8p1Pd4uG"
      }
    },
    {
      "cell_type": "code",
      "source": [
        "from pyspark.sql.functions import when\n",
        "\n",
        "cars_union = cars_union.withColumn(\"performance\", when(cars_union[\"mpg\"] > 20, \"Alta\")\n",
        "                                    .when((cars_union[\"mpg\"] >= 15) & (cars_union[\"mpg\"] <= 20), \"Média\")\n",
        "                                    .otherwise(\"Baixa\"))\n",
        "\n",
        "cars_union.show()"
      ],
      "metadata": {
        "id": "CkXdk80-9YPW",
        "colab": {
          "base_uri": "https://localhost:8080/"
        },
        "outputId": "e68616b9-ce81-457c-a317-ec2f9ddbc7d4"
      },
      "execution_count": null,
      "outputs": [
        {
          "output_type": "stream",
          "name": "stdout",
          "text": [
            "+----+---------+------------+----------+------+------------+-----+------+--------------------+----+----+----+----+----+-----------+\n",
            "| mpg|cylinders|displacement|horsepower|weight|acceleration|model|origin|                 car| _c9|_c10|_c11|_c12|_c13|performance|\n",
            "+----+---------+------------+----------+------+------------+-----+------+--------------------+----+----+----+----+----+-----------+\n",
            "|18.0|        8|         307|       130|  3504|        12.0|   70|     1|chevrolet chevell...|NULL|NULL|NULL|NULL|NULL|      Média|\n",
            "|15.0|        8|         350|       165|  3693|        11.5|   70|     1|   buick skylark 320|NULL|NULL|NULL|NULL|NULL|      Média|\n",
            "|18.0|        8|         318|       150|  3436|        11.0|   70|     1|  plymouth satellite|NULL|NULL|NULL|NULL|NULL|      Média|\n",
            "|16.0|        8|         304|       150|  3433|        12.0|   70|     1|       amc rebel sst|NULL|NULL|NULL|NULL|NULL|      Média|\n",
            "|17.0|        8|         302|       140|  3449|        10.5|   70|     1|         ford torino|NULL|NULL|NULL|NULL|NULL|      Média|\n",
            "|15.0|        8|         429|       198|  4341|        10.0|   70|     1|    ford galaxie 500|NULL|NULL|NULL|NULL|NULL|      Média|\n",
            "|14.0|        8|         454|       220|  4354|         9.0|   70|     1|    chevrolet impala|NULL|NULL|NULL|NULL|NULL|      Baixa|\n",
            "|14.0|        8|         440|       215|  4312|         8.5|   70|     1|   plymouth fury iii|NULL|NULL|NULL|NULL|NULL|      Baixa|\n",
            "|14.0|        8|         455|       225|  4425|        10.0|   70|     1|    pontiac catalina|NULL|NULL|NULL|NULL|NULL|      Baixa|\n",
            "|15.0|        8|         390|       190|  3850|         8.5|   70|     1|  amc ambassador dpl|NULL|NULL|NULL|NULL|NULL|      Média|\n",
            "|15.0|        8|         383|       170|  3563|        10.0|   70|     1| dodge challenger se|NULL|NULL|NULL|NULL|NULL|      Média|\n",
            "|14.0|        8|         340|       160|  3609|         8.0|   70|     1|  plymouth 'cuda 340|NULL|NULL|NULL|NULL|NULL|      Baixa|\n",
            "|15.0|        8|         400|       150|  3761|         9.5|   70|     1|chevrolet monte c...|NULL|NULL|NULL|NULL|NULL|      Média|\n",
            "|14.0|        8|         455|       225|  3086|        10.0|   70|     1|buick estate wago...|NULL|NULL|NULL|NULL|NULL|      Baixa|\n",
            "|24.0|        4|         113|        95|  2372|        15.0|   70|     3|toyota corona mar...|NULL|NULL|NULL|NULL|NULL|       Alta|\n",
            "|22.0|        6|         198|        95|  2833|        15.5|   70|     1|     plymouth duster|NULL|NULL|NULL|NULL|NULL|       Alta|\n",
            "|18.0|        6|         199|        97|  2774|        15.5|   70|     1|          amc hornet|NULL|NULL|NULL|NULL|NULL|      Média|\n",
            "|21.0|        6|         200|        85|  2587|        16.0|   70|     1|       ford maverick|NULL|NULL|NULL|NULL|NULL|       Alta|\n",
            "|27.0|        4|          97|        88|  2130|        14.5|   70|     3|        datsun pl510|NULL|NULL|NULL|NULL|NULL|       Alta|\n",
            "|26.0|        4|          97|        46|  1835|        20.5|   70|     2|volkswagen 1131 d...|NULL|NULL|NULL|NULL|NULL|       Alta|\n",
            "+----+---------+------------+----------+------+------------+-----+------+--------------------+----+----+----+----+----+-----------+\n",
            "only showing top 20 rows\n",
            "\n"
          ]
        }
      ]
    },
    {
      "cell_type": "markdown",
      "source": [
        "Exercício 5: Contagem de Carros por Origem\n",
        "Enunciado: Utilize o dataset unido para contar quantos carros há por `origin` (país de origem), e mostre o resultado ordenado de forma decrescente."
      ],
      "metadata": {
        "id": "FRTxrTf-eD-C"
      }
    },
    {
      "cell_type": "code",
      "source": [
        "cars_union.groupBy(\"origin\").count().orderBy(col(\"count\").desc()).show()"
      ],
      "metadata": {
        "colab": {
          "base_uri": "https://localhost:8080/"
        },
        "id": "JQBMjP4LeHoi",
        "outputId": "efcc983f-098f-41ef-9253-6c9d867fe727"
      },
      "execution_count": null,
      "outputs": [
        {
          "output_type": "stream",
          "name": "stdout",
          "text": [
            "+------+-----+\n",
            "|origin|count|\n",
            "+------+-----+\n",
            "|     1|  249|\n",
            "|     3|   79|\n",
            "|     2|   70|\n",
            "+------+-----+\n",
            "\n"
          ]
        }
      ]
    },
    {
      "cell_type": "markdown",
      "source": [
        "Exercício 6: Conversão de Colunas\n",
        "Enunciado: A coluna `horsepower` contém valores que podem estar no formato string. Converta essa coluna para o tipo inteiro e, em seguida, calcule a média de `horsepower` para todos os carros."
      ],
      "metadata": {
        "id": "lfebhZrieHFG"
      }
    },
    {
      "cell_type": "code",
      "source": [
        "cars_union =  cars_union.withColumn(\"horsepower\", col(\"horsepower\").cast(\"int\"))\n",
        "cars_union.select(avg(\"horsepower\")).show()"
      ],
      "metadata": {
        "colab": {
          "base_uri": "https://localhost:8080/"
        },
        "id": "6lzeR8W7hw8w",
        "outputId": "046638eb-8e18-498e-e917-430743c8769d"
      },
      "execution_count": null,
      "outputs": [
        {
          "output_type": "stream",
          "name": "stdout",
          "text": [
            "+------------------+\n",
            "|   avg(horsepower)|\n",
            "+------------------+\n",
            "|104.46938775510205|\n",
            "+------------------+\n",
            "\n"
          ]
        }
      ]
    },
    {
      "cell_type": "markdown",
      "source": [
        "Exercício 7: Manipulação de Datas\n",
        "Enunciado: Suponha que você adicionou uma coluna de data ao DataFrame indicando o ano em que cada carro foi registrado. Filtre o DataFrame para trazer apenas os carros com horse-power maior que 160\n",
        "\n"
      ],
      "metadata": {
        "id": "KBYf7nBPeH5Q"
      }
    },
    {
      "cell_type": "code",
      "source": [
        "cars_union = cars_union.withColumn(\"year\", col(\"year\").cast(\"int\"))"
      ],
      "metadata": {
        "id": "noA89DF1mPc7"
      },
      "execution_count": null,
      "outputs": []
    },
    {
      "cell_type": "code",
      "source": [
        "cars_union.filter(col(\"horsepower\") > 160).show()"
      ],
      "metadata": {
        "colab": {
          "base_uri": "https://localhost:8080/"
        },
        "id": "CObdtxYDkEW1",
        "outputId": "0f1cb84c-cd34-4570-b88f-871de6ec4dd7"
      },
      "execution_count": null,
      "outputs": [
        {
          "output_type": "stream",
          "name": "stdout",
          "text": [
            "+----+---------+------------+----------+------+------------+-----+------+--------------------+----+----+----+----+----+-----------+\n",
            "| mpg|cylinders|displacement|horsepower|weight|acceleration|model|origin|                 car| _c9|_c10|_c11|_c12|_c13|performance|\n",
            "+----+---------+------------+----------+------+------------+-----+------+--------------------+----+----+----+----+----+-----------+\n",
            "|15.0|        8|         350|       165|  3693|        11.5|   70|     1|   buick skylark 320|NULL|NULL|NULL|NULL|NULL|      Média|\n",
            "|15.0|        8|         429|       198|  4341|        10.0|   70|     1|    ford galaxie 500|NULL|NULL|NULL|NULL|NULL|      Média|\n",
            "|14.0|        8|         454|       220|  4354|         9.0|   70|     1|    chevrolet impala|NULL|NULL|NULL|NULL|NULL|      Baixa|\n",
            "|14.0|        8|         440|       215|  4312|         8.5|   70|     1|   plymouth fury iii|NULL|NULL|NULL|NULL|NULL|      Baixa|\n",
            "|14.0|        8|         455|       225|  4425|        10.0|   70|     1|    pontiac catalina|NULL|NULL|NULL|NULL|NULL|      Baixa|\n",
            "|15.0|        8|         390|       190|  3850|         8.5|   70|     1|  amc ambassador dpl|NULL|NULL|NULL|NULL|NULL|      Média|\n",
            "|15.0|        8|         383|       170|  3563|        10.0|   70|     1| dodge challenger se|NULL|NULL|NULL|NULL|NULL|      Média|\n",
            "|14.0|        8|         455|       225|  3086|        10.0|   70|     1|buick estate wago...|NULL|NULL|NULL|NULL|NULL|      Baixa|\n",
            "|10.0|        8|         360|       215|  4615|        14.0|   70|     1|           ford f250|NULL|NULL|NULL|NULL|NULL|      Baixa|\n",
            "|10.0|        8|         307|       200|  4376|        15.0|   70|     1|           chevy c20|NULL|NULL|NULL|NULL|NULL|      Baixa|\n",
            "|11.0|        8|         318|       210|  4382|        13.5|   70|     1|          dodge d200|NULL|NULL|NULL|NULL|NULL|      Baixa|\n",
            "| 9.0|        8|         304|       193|  4732|        18.5|   70|     1|            hi 1200d|NULL|NULL|NULL|NULL|NULL|      Baixa|\n",
            "|14.0|        8|         350|       165|  4209|        12.0|   71|     1|    chevrolet impala|NULL|NULL|NULL|NULL|NULL|      Baixa|\n",
            "|14.0|        8|         400|       175|  4464|        11.5|   71|     1|pontiac catalina ...|NULL|NULL|NULL|NULL|NULL|      Baixa|\n",
            "|12.0|        8|         383|       180|  4955|        11.5|   71|     1|   dodge monaco (sw)|NULL|NULL|NULL|NULL|NULL|      Baixa|\n",
            "|13.0|        8|         400|       170|  4746|        12.0|   71|     1|ford country squi...|NULL|NULL|NULL|NULL|NULL|      Baixa|\n",
            "|13.0|        8|         400|       175|  5140|        12.0|   71|     1| pontiac safari (sw)|NULL|NULL|NULL|NULL|NULL|      Baixa|\n",
            "|13.0|        8|         350|       165|  4274|        12.0|   72|     1|    chevrolet impala|NULL|NULL|NULL|NULL|NULL|      Baixa|\n",
            "|14.0|        8|         400|       175|  4385|        12.0|   72|     1|    pontiac catalina|NULL|NULL|NULL|NULL|NULL|      Baixa|\n",
            "|11.0|        8|         429|       208|  4633|        11.0|   72|     1|     mercury marquis|NULL|NULL|NULL|NULL|NULL|      Baixa|\n",
            "+----+---------+------------+----------+------+------------+-----+------+--------------------+----+----+----+----+----+-----------+\n",
            "only showing top 20 rows\n",
            "\n"
          ]
        }
      ]
    }
  ]
}
